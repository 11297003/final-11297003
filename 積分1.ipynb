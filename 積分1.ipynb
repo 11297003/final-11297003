{
 "cells": [
  {
   "cell_type": "code",
   "execution_count": 1,
   "id": "2d8d043c-fa77-4d5e-80bc-c3d26c742820",
   "metadata": {},
   "outputs": [
    {
     "data": {
      "text/latex": [
       "$\\displaystyle 1.0 x^{3} + 1.0 x$"
      ],
      "text/plain": [
       "1.0*x**3 + 1.0*x"
      ]
     },
     "execution_count": 1,
     "metadata": {},
     "output_type": "execute_result"
    }
   ],
   "source": [
    "import sympy as sp\n",
    "x=sp.Symbol('x')\n",
    "sp.integrate(3.0*x**2+1,x)"
   ]
  },
  {
   "cell_type": "code",
   "execution_count": 2,
   "id": "6b73405c-8738-4caf-872e-be5e087576d3",
   "metadata": {},
   "outputs": [
    {
     "name": "stdout",
     "output_type": "stream",
     "text": [
      "10.000000000000002\n"
     ]
    }
   ],
   "source": [
    "from scipy.integrate import quad\n",
    "def f(x):\n",
    "    return 3*x**2+1\n",
    "\n",
    "i=quad(f,0,2)\n",
    "print(i[0])"
   ]
  },
  {
   "cell_type": "code",
   "execution_count": null,
   "id": "0ddb5c99-f66e-448a-b1a4-83b33a310d87",
   "metadata": {},
   "outputs": [],
   "source": []
  },
  {
   "cell_type": "code",
   "execution_count": 3,
   "id": "2e6222d1-22b4-4713-b7ec-bf5533aaf9e7",
   "metadata": {},
   "outputs": [
    {
     "data": {
      "text/latex": [
       "$\\displaystyle - 0.333333333333333 \\cos{\\left(3.0 x \\right)}$"
      ],
      "text/plain": [
       "-0.333333333333333*cos(3.0*x)"
      ]
     },
     "execution_count": 3,
     "metadata": {},
     "output_type": "execute_result"
    }
   ],
   "source": [
    "import sympy as sp\n",
    "x=sp.Symbol('x')\n",
    "sp.integrate(sp.sin(3.0*x),x)"
   ]
  },
  {
   "cell_type": "code",
   "execution_count": null,
   "id": "a72230e1-b242-499b-b0bc-93d75463b1e6",
   "metadata": {},
   "outputs": [],
   "source": []
  },
  {
   "cell_type": "code",
   "execution_count": 4,
   "id": "eca68a9f-1cb6-4df7-bc8a-53d857c407ee",
   "metadata": {},
   "outputs": [
    {
     "name": "stdout",
     "output_type": "stream",
     "text": [
      "0.29943976718048754\n"
     ]
    }
   ],
   "source": [
    "from scipy.integrate import quad\n",
    "import numpy as np\n",
    "\n",
    "def f(x):\n",
    "    return np.exp(-x)*np.sin(3*x)\n",
    "\n",
    "i=quad(f,0,2*np.pi)\n",
    "print(i[0])"
   ]
  },
  {
   "cell_type": "code",
   "execution_count": null,
   "id": "30b1cc38-9308-40a2-80c4-dad6d061c45b",
   "metadata": {},
   "outputs": [],
   "source": []
  }
 ],
 "metadata": {
  "kernelspec": {
   "display_name": "Python 3 (ipykernel)",
   "language": "python",
   "name": "python3"
  },
  "language_info": {
   "codemirror_mode": {
    "name": "ipython",
    "version": 3
   },
   "file_extension": ".py",
   "mimetype": "text/x-python",
   "name": "python",
   "nbconvert_exporter": "python",
   "pygments_lexer": "ipython3",
   "version": "3.11.7"
  }
 },
 "nbformat": 4,
 "nbformat_minor": 5
}
