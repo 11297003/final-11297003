{
 "cells": [
  {
   "cell_type": "code",
   "execution_count": 1,
   "id": "ff6220f5-e57c-4a63-a5d6-551e42335a80",
   "metadata": {},
   "outputs": [
    {
     "name": "stdout",
     "output_type": "stream",
     "text": [
      "36\n"
     ]
    }
   ],
   "source": [
    "# X^2\n",
    "\n",
    "lamret=lambda x: x**2\n",
    "print(lamret(6))"
   ]
  },
  {
   "cell_type": "code",
   "execution_count": 2,
   "id": "7c4d1a9e-f069-4d43-a78b-9cb95686a922",
   "metadata": {},
   "outputs": [
    {
     "data": {
      "text/plain": [
       "function"
      ]
     },
     "execution_count": 2,
     "metadata": {},
     "output_type": "execute_result"
    }
   ],
   "source": [
    "type(lamret)"
   ]
  },
  {
   "cell_type": "code",
   "execution_count": 4,
   "id": "2225e429-e23d-4f2e-9d6a-cfb27ebca625",
   "metadata": {},
   "outputs": [
    {
     "name": "stdout",
     "output_type": "stream",
     "text": [
      "2.0\n"
     ]
    }
   ],
   "source": [
    "#f(x,y,z)=(x-y)^z/2\n",
    "\n",
    "lambret2=lambda x, y, z: ((x-y)**z)/2\n",
    "print(lambret2(3,1,2))"
   ]
  },
  {
   "cell_type": "code",
   "execution_count": 5,
   "id": "c8b2edf6-5ab1-4520-89d6-d54a72302655",
   "metadata": {},
   "outputs": [
    {
     "name": "stdout",
     "output_type": "stream",
     "text": [
      "16\n"
     ]
    }
   ],
   "source": [
    "lambret3=lambda x, y: x**2 if x>y else 1/x**2\n",
    "print(lambret3(4,3))"
   ]
  },
  {
   "cell_type": "code",
   "execution_count": 6,
   "id": "5672b422-ccd9-4429-8375-f99770d922c1",
   "metadata": {},
   "outputs": [
    {
     "name": "stdout",
     "output_type": "stream",
     "text": [
      "0.0625\n"
     ]
    }
   ],
   "source": [
    "print(lambret3(4,5))"
   ]
  },
  {
   "cell_type": "code",
   "execution_count": 7,
   "id": "9bdfe55d-941e-419d-a5c7-19e059c456a3",
   "metadata": {},
   "outputs": [
    {
     "name": "stdout",
     "output_type": "stream",
     "text": [
      "呼叫函數(x**2)+(4*x)+6 38\n"
     ]
    }
   ],
   "source": [
    "#x^2+4x+6\n",
    "\n",
    "def polyequ(x):\n",
    "    return(x**2)+(4*x)+6\n",
    "sample=4\n",
    "result=polyequ(sample)\n",
    "print('呼叫函數(x**2)+(4*x)+6', result)"
   ]
  },
  {
   "cell_type": "code",
   "execution_count": 8,
   "id": "31d7be10-e39a-4a65-8953-9c36dd4f7ba6",
   "metadata": {},
   "outputs": [
    {
     "name": "stdout",
     "output_type": "stream",
     "text": [
      "6*x\n",
      "12.0\n"
     ]
    },
    {
     "name": "stderr",
     "output_type": "stream",
     "text": [
      "C:\\Users\\user\\AppData\\Local\\Temp\\ipykernel_1348\\2692988610.py:9: DeprecationWarning: scipy.misc.derivative is deprecated in SciPy v1.10.0; and will be completely removed in SciPy v1.12.0. You may consider using findiff: https://github.com/maroba/findiff or numdifftools: https://github.com/pbrod/numdifftools\n",
      "  print(derivative(f, 2))\n"
     ]
    }
   ],
   "source": [
    "import sympy as sp\n",
    "x = sp.Symbol('x')\n",
    "print(sp.diff(3*x**2+1, x))\n",
    "\n",
    "from scipy.misc import derivative\n",
    "def f(x):\n",
    "    return 3*x**2+1\n",
    "\n",
    "print(derivative(f, 2))"
   ]
  },
  {
   "cell_type": "code",
   "execution_count": null,
   "id": "33ca7697-f52f-4f29-a7ae-b5945db3e518",
   "metadata": {},
   "outputs": [],
   "source": []
  }
 ],
 "metadata": {
  "kernelspec": {
   "display_name": "Python 3 (ipykernel)",
   "language": "python",
   "name": "python3"
  },
  "language_info": {
   "codemirror_mode": {
    "name": "ipython",
    "version": 3
   },
   "file_extension": ".py",
   "mimetype": "text/x-python",
   "name": "python",
   "nbconvert_exporter": "python",
   "pygments_lexer": "ipython3",
   "version": "3.11.7"
  }
 },
 "nbformat": 4,
 "nbformat_minor": 5
}
