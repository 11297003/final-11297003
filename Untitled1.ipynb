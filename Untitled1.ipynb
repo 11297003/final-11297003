{
 "cells": [
  {
   "cell_type": "code",
   "execution_count": 2,
   "id": "7166ec64-ed7b-4b2d-bc60-ae113a92260a",
   "metadata": {},
   "outputs": [
    {
     "name": "stdout",
     "output_type": "stream",
     "text": [
      "6*x\n",
      "12.0\n"
     ]
    },
    {
     "name": "stderr",
     "output_type": "stream",
     "text": [
      "C:\\Users\\user\\AppData\\Local\\Temp\\ipykernel_14252\\3965135787.py:9: DeprecationWarning: scipy.misc.derivative is deprecated in SciPy v1.10.0; and will be completely removed in SciPy v1.12.0. You may consider using findiff: https://github.com/maroba/findiff or numdifftools: https://github.com/pbrod/numdifftools\n",
      "  print(derivative (f,2.0))\n"
     ]
    }
   ],
   "source": [
    "import sympy as sp\n",
    "x = sp.Symbol('x')\n",
    "print(sp.diff(3*x**2 + 1, x))\n",
    "\n",
    "from scipy.misc import derivative\n",
    "def f(x) :\n",
    "    return 3*x**2 + 1\n",
    "\n",
    "print(derivative (f,2.0))"
   ]
  },
  {
   "cell_type": "code",
   "execution_count": null,
   "id": "7c5a2105-ad3d-42f7-83b8-1fc4b281ea26",
   "metadata": {},
   "outputs": [],
   "source": [
    "def d(x):\n",
    "    return derivative\n",
    "\n",
    "%matplotlib inline\n",
    "import matplotlib.pyplot as plt\n",
    "import numpy as np\n",
    "\n",
    "y=np.linspace(-3,3)\n",
    "plt.plot(y,f(y))\n",
    "plt.plot(y,d(y))"
   ]
  }
 ],
 "metadata": {
  "kernelspec": {
   "display_name": "Python 3 (ipykernel)",
   "language": "python",
   "name": "python3"
  },
  "language_info": {
   "codemirror_mode": {
    "name": "ipython",
    "version": 3
   },
   "file_extension": ".py",
   "mimetype": "text/x-python",
   "name": "python",
   "nbconvert_exporter": "python",
   "pygments_lexer": "ipython3",
   "version": "3.11.7"
  }
 },
 "nbformat": 4,
 "nbformat_minor": 5
}
