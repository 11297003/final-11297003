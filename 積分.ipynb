{
 "cells": [
  {
   "cell_type": "code",
   "execution_count": 1,
   "id": "7558bae8-6046-4d80-8e99-ee863b5d6f05",
   "metadata": {},
   "outputs": [
    {
     "name": "stdin",
     "output_type": "stream",
     "text": [
      "Please input dx= 4\n"
     ]
    },
    {
     "name": "stdout",
     "output_type": "stream",
     "text": [
      "area= 20.0\n"
     ]
    }
   ],
   "source": [
    "import numpy as np\n",
    "\n",
    "dx=float(input('Please input dx='))\n",
    "area=0\n",
    "y=0\n",
    "for x in np.arange(2,5,dx):\n",
    "    y=(x**2)+1\n",
    "    area=area+(y*dx)\n",
    "print('area=', area)    "
   ]
  },
  {
   "cell_type": "code",
   "execution_count": null,
   "id": "c4df9952-b12d-4c17-b7eb-b58ae94dbd93",
   "metadata": {},
   "outputs": [],
   "source": []
  }
 ],
 "metadata": {
  "kernelspec": {
   "display_name": "Python 3 (ipykernel)",
   "language": "python",
   "name": "python3"
  },
  "language_info": {
   "codemirror_mode": {
    "name": "ipython",
    "version": 3
   },
   "file_extension": ".py",
   "mimetype": "text/x-python",
   "name": "python",
   "nbconvert_exporter": "python",
   "pygments_lexer": "ipython3",
   "version": "3.11.7"
  }
 },
 "nbformat": 4,
 "nbformat_minor": 5
}
