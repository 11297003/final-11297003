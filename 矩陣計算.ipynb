{
 "cells": [
  {
   "cell_type": "code",
   "execution_count": 1,
   "id": "388770cc-611e-41c2-aaa6-5f0f4b766dfe",
   "metadata": {},
   "outputs": [],
   "source": [
    "import numpy as np"
   ]
  },
  {
   "cell_type": "code",
   "execution_count": 2,
   "id": "1e0cde4c-7bf2-4f3b-a9af-209347bb7361",
   "metadata": {},
   "outputs": [],
   "source": [
    "A = np.array([[3,-9],[2,4]])"
   ]
  },
  {
   "cell_type": "code",
   "execution_count": 3,
   "id": "728c499c-5228-44bb-bfc0-17b444b30559",
   "metadata": {},
   "outputs": [
    {
     "name": "stdout",
     "output_type": "stream",
     "text": [
      "[[ 3 -9]\n",
      " [ 2  4]]\n"
     ]
    }
   ],
   "source": [
    "print(A)"
   ]
  },
  {
   "cell_type": "code",
   "execution_count": 4,
   "id": "f972a704-d41c-4b79-b5a9-549726b9fd85",
   "metadata": {},
   "outputs": [],
   "source": [
    "B= np.array([-42,2])"
   ]
  },
  {
   "cell_type": "code",
   "execution_count": 5,
   "id": "4ac82b33-3fe2-4297-ba73-714b317174ca",
   "metadata": {},
   "outputs": [],
   "source": [
    "Z = np.linalg.solve(A, B)"
   ]
  },
  {
   "cell_type": "code",
   "execution_count": 6,
   "id": "f31f350a-0931-4039-bf9e-e0fe1a7764a0",
   "metadata": {},
   "outputs": [
    {
     "name": "stdout",
     "output_type": "stream",
     "text": [
      "[-5.  3.]\n"
     ]
    }
   ],
   "source": [
    "print(Z)"
   ]
  },
  {
   "cell_type": "code",
   "execution_count": 7,
   "id": "1b17f00f-700c-4166-94ba-5b6119999bb4",
   "metadata": {},
   "outputs": [],
   "source": [
    "M=np.array([[1,-2,-1],[2,2,-1],[-1,-1,2]])"
   ]
  },
  {
   "cell_type": "code",
   "execution_count": 8,
   "id": "0f29f903-0682-4b1b-bc49-c56bddae1abd",
   "metadata": {},
   "outputs": [
    {
     "name": "stdout",
     "output_type": "stream",
     "text": [
      "[[ 1 -2 -1]\n",
      " [ 2  2 -1]\n",
      " [-1 -1  2]]\n"
     ]
    }
   ],
   "source": [
    "print(M)"
   ]
  },
  {
   "cell_type": "code",
   "execution_count": 9,
   "id": "cd8d73e0-ad11-43d0-958d-6d8b922f7a05",
   "metadata": {},
   "outputs": [],
   "source": [
    "c=np.array([6,1,1])"
   ]
  },
  {
   "cell_type": "code",
   "execution_count": 10,
   "id": "e374fe4a-d3c8-4330-bcfd-019ce96043cd",
   "metadata": {},
   "outputs": [],
   "source": [
    "y=np.linalg.solve(M,c)"
   ]
  },
  {
   "cell_type": "code",
   "execution_count": 11,
   "id": "88bcbe5b-1598-4203-85df-dcaa91cb0922",
   "metadata": {},
   "outputs": [
    {
     "name": "stdout",
     "output_type": "stream",
     "text": [
      "[ 3. -2.  1.]\n"
     ]
    }
   ],
   "source": [
    "print(y)"
   ]
  },
  {
   "cell_type": "code",
   "execution_count": null,
   "id": "8e0c2b8d-5545-4785-9d03-3d7ce9c6de19",
   "metadata": {},
   "outputs": [],
   "source": []
  }
 ],
 "metadata": {
  "kernelspec": {
   "display_name": "Python 3 (ipykernel)",
   "language": "python",
   "name": "python3"
  },
  "language_info": {
   "codemirror_mode": {
    "name": "ipython",
    "version": 3
   },
   "file_extension": ".py",
   "mimetype": "text/x-python",
   "name": "python",
   "nbconvert_exporter": "python",
   "pygments_lexer": "ipython3",
   "version": "3.11.7"
  }
 },
 "nbformat": 4,
 "nbformat_minor": 5
}
