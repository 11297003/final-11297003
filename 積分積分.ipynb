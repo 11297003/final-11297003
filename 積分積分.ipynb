{
 "cells": [
  {
   "cell_type": "code",
   "execution_count": 2,
   "id": "0a6a373d-0b19-401b-a6df-c74f7effd2a0",
   "metadata": {},
   "outputs": [
    {
     "name": "stdout",
     "output_type": "stream",
     "text": [
      "6*x\n",
      "12.0\n"
     ]
    },
    {
     "name": "stderr",
     "output_type": "stream",
     "text": [
      "C:\\Users\\user\\AppData\\Local\\Temp\\ipykernel_8268\\4230010124.py:10: DeprecationWarning: scipy.misc.derivative is deprecated in SciPy v1.10.0; and will be completely removed in SciPy v1.12.0. You may consider using findiff: https://github.com/maroba/findiff or numdifftools: https://github.com/pbrod/numdifftools\n",
      "  print(derivative (f,2.0))\n"
     ]
    }
   ],
   "source": [
    "import sympy as sp\n",
    "x = sp.Symbol('x')\n",
    "print(sp.diff(3*x**2 + 1, x))\n",
    "    \n",
    "\n",
    "from scipy.misc import derivative\n",
    "def f(x) :\n",
    "    return 3*x**2 + 1\n",
    "\n",
    "print(derivative (f,2.0))\n"
   ]
  },
  {
   "cell_type": "code",
   "execution_count": 3,
   "id": "a281bb53-86f1-4a9a-a23c-201d9d7233ce",
   "metadata": {},
   "outputs": [
    {
     "name": "stderr",
     "output_type": "stream",
     "text": [
      "UsageError: Line magic function `%matplotlib.pyplot` not found.\n"
     ]
    }
   ],
   "source": [
    "def d(x):\n",
    "    return derivative\n",
    "\n",
    "%matplotlib.pyplot as inline\n",
    "import matplotlib.pyplot as plt\n",
    "import numpy as np\n",
    "\n",
    "y=np.linspace(-3,3)\n",
    "plt.plot(y,f(y))\n",
    "plt.plot(y,d(y))"
   ]
  },
  {
   "cell_type": "code",
   "execution_count": null,
   "id": "99f9dcb3-aab2-4eb9-8f25-0e72599ee6c6",
   "metadata": {},
   "outputs": [],
   "source": []
  }
 ],
 "metadata": {
  "kernelspec": {
   "display_name": "Python 3 (ipykernel)",
   "language": "python",
   "name": "python3"
  },
  "language_info": {
   "codemirror_mode": {
    "name": "ipython",
    "version": 3
   },
   "file_extension": ".py",
   "mimetype": "text/x-python",
   "name": "python",
   "nbconvert_exporter": "python",
   "pygments_lexer": "ipython3",
   "version": "3.11.7"
  }
 },
 "nbformat": 4,
 "nbformat_minor": 5
}
