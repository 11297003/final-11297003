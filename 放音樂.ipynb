{
 "cells": [
  {
   "cell_type": "code",
   "execution_count": 5,
   "id": "89993842-ffd5-4264-8268-e500dd230fda",
   "metadata": {},
   "outputs": [],
   "source": [
    "# 讓電腦說話\n",
    "# http://www.youtube.com/watch?v=xd_1rn89W2k"
   ]
  },
  {
   "cell_type": "code",
   "execution_count": 4,
   "id": "3b92d345-bdaf-4bd0-b8a8-064b34153e84",
   "metadata": {},
   "outputs": [],
   "source": [
    "from pygame import mixer\n",
    "mixer.init()\n",
    "mixer.music.load('魏如萱-奶奶.mp3')\n",
    "mixer.music.play()"
   ]
  },
  {
   "cell_type": "code",
   "execution_count": null,
   "id": "a186f50e-f016-4f19-93d2-1e9a0b5a7cdc",
   "metadata": {},
   "outputs": [],
   "source": []
  }
 ],
 "metadata": {
  "kernelspec": {
   "display_name": "Python 3 (ipykernel)",
   "language": "python",
   "name": "python3"
  },
  "language_info": {
   "codemirror_mode": {
    "name": "ipython",
    "version": 3
   },
   "file_extension": ".py",
   "mimetype": "text/x-python",
   "name": "python",
   "nbconvert_exporter": "python",
   "pygments_lexer": "ipython3",
   "version": "3.11.7"
  }
 },
 "nbformat": 4,
 "nbformat_minor": 5
}
