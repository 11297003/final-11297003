{
 "cells": [
  {
   "cell_type": "code",
   "execution_count": 1,
   "id": "c5653277-9deb-4570-a71f-9bff6ac79ed2",
   "metadata": {},
   "outputs": [],
   "source": [
    "from PIL import Image\n",
    "pic=Image.open('C:\\jupyter\\Penguins.jpg')"
   ]
  },
  {
   "cell_type": "code",
   "execution_count": 3,
   "id": "252e5678-f22b-4feb-987c-87ece105a0c2",
   "metadata": {},
   "outputs": [
    {
     "name": "stdout",
     "output_type": "stream",
     "text": [
      "圖片寬度: 267\n",
      "圖片高度: 213\n"
     ]
    }
   ],
   "source": [
    "print('圖片寬度:',pic.width)\n",
    "print('圖片高度:',pic.height)"
   ]
  },
  {
   "cell_type": "code",
   "execution_count": 4,
   "id": "76d327ca-d925-4f49-99e2-2212228cde98",
   "metadata": {},
   "outputs": [
    {
     "name": "stdout",
     "output_type": "stream",
     "text": [
      "圖片檔案格式: JPEG\n",
      "圖片色彩模式: RGB\n",
      "圖片大小: (267, 213)\n"
     ]
    }
   ],
   "source": [
    "print('圖片檔案格式:',pic.format)\n",
    "print('圖片色彩模式:',pic.mode)\n",
    "print('圖片大小:',pic.size)"
   ]
  },
  {
   "cell_type": "code",
   "execution_count": 5,
   "id": "d310f84c-7537-4534-9782-8e3fc3cd5834",
   "metadata": {},
   "outputs": [],
   "source": [
    "pic.show()"
   ]
  },
  {
   "cell_type": "code",
   "execution_count": 6,
   "id": "326906c0-3825-43e6-93c1-fc75057191f7",
   "metadata": {},
   "outputs": [
    {
     "name": "stdout",
     "output_type": "stream",
     "text": [
      "原本的圖片色彩模式: RGB\n",
      "轉換黑白後的圖片色彩模式: 1\n"
     ]
    }
   ],
   "source": [
    "print('原本的圖片色彩模式:',pic.mode)\n",
    "new_pic=pic.convert('1')\n",
    "new_pic.show()\n",
    "print('轉換黑白後的圖片色彩模式:',new_pic.mode)"
   ]
  },
  {
   "cell_type": "code",
   "execution_count": 7,
   "id": "55afef6c-3383-431d-84e0-9517067c2443",
   "metadata": {},
   "outputs": [],
   "source": [
    "new_pic=pic.rotate(30)\n",
    "new_pic.show()"
   ]
  },
  {
   "cell_type": "code",
   "execution_count": 8,
   "id": "3033e5a1-1a29-4e6e-b668-3f293c4404ea",
   "metadata": {},
   "outputs": [],
   "source": [
    "new_pic2=pic.rotate(-30)\n",
    "new_pic2.show()"
   ]
  },
  {
   "cell_type": "code",
   "execution_count": 9,
   "id": "9975ff66-f339-4047-b7ad-539480cebdea",
   "metadata": {},
   "outputs": [],
   "source": [
    "from PIL import Image\n",
    "from PIL import ImageFilter\n",
    "pic=Image.open('C:\\jupyter\\Penguins.jpg')"
   ]
  },
  {
   "cell_type": "code",
   "execution_count": 10,
   "id": "fabf62cc-6d86-4b03-8aeb-5f30bd41586a",
   "metadata": {},
   "outputs": [],
   "source": [
    "new_pic=pic.filter(ImageFilter.CONTOUR)\n",
    "new_pic.save('C:\\jupyter\\Penguins2.jpg')\n",
    "new_pic.show()"
   ]
  },
  {
   "cell_type": "code",
   "execution_count": 13,
   "id": "ff987571-c4c7-448e-b608-117c243aeb03",
   "metadata": {},
   "outputs": [
    {
     "name": "stdout",
     "output_type": "stream",
     "text": [
      "原圖大小: (267, 213)\n",
      "縮放後圖形大小: (400, 400)\n"
     ]
    }
   ],
   "source": [
    "print('原圖大小:',pic.size)\n",
    "new_pic=pic.resize((400,400))\n",
    "print('縮放後圖形大小:',new_pic.size)\n",
    "new_pic.save('C:\\jupyter\\Penguins2.jpg')\n",
    "new_pic.show()"
   ]
  },
  {
   "cell_type": "code",
   "execution_count": 14,
   "id": "a7fe143e-eef7-4157-8caf-f07eb90bf118",
   "metadata": {},
   "outputs": [],
   "source": [
    "from PIL import Image, ImageFont, ImageDraw\n",
    "pic=Image.open('C:\\jupyter\\Penguins.jpg')"
   ]
  },
  {
   "cell_type": "code",
   "execution_count": 15,
   "id": "fd12b3f0-7557-4980-8682-25070014519c",
   "metadata": {},
   "outputs": [],
   "source": [
    "t_font=ImageFont.truetype('c://Windows//Fonts//Arial//arial.ttf', 30)\n",
    "draw=ImageDraw.Draw(pic)\n",
    "\n",
    "draw.text((20,30), 'TOKYO', font=t_font, fill=(255,0,0,255))\n",
    "draw.text((20,100), 'Penguin', font=t_font, fill=(0,255,0,255))\n",
    "pic.show()"
   ]
  },
  {
   "cell_type": "code",
   "execution_count": null,
   "id": "7b1edb5b-51ea-4253-b455-b5a2b07d7a32",
   "metadata": {},
   "outputs": [],
   "source": []
  }
 ],
 "metadata": {
  "kernelspec": {
   "display_name": "Python 3 (ipykernel)",
   "language": "python",
   "name": "python3"
  },
  "language_info": {
   "codemirror_mode": {
    "name": "ipython",
    "version": 3
   },
   "file_extension": ".py",
   "mimetype": "text/x-python",
   "name": "python",
   "nbconvert_exporter": "python",
   "pygments_lexer": "ipython3",
   "version": "3.11.7"
  }
 },
 "nbformat": 4,
 "nbformat_minor": 5
}
