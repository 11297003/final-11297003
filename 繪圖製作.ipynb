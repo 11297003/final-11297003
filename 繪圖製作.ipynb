{
 "cells": [
  {
   "cell_type": "code",
   "execution_count": 13,
   "id": "1c816493-1792-4db7-875e-b6f62bf7b825",
   "metadata": {},
   "outputs": [],
   "source": [
    "from PIL import Image\n",
    "pic=Image.open(r\"c:\\Users\\user\\.jupyter\\Penguins.jpg\")"
   ]
  },
  {
   "cell_type": "code",
   "execution_count": 14,
   "id": "c39cf38c-b543-4ff4-b689-7f544485e537",
   "metadata": {},
   "outputs": [
    {
     "name": "stdout",
     "output_type": "stream",
     "text": [
      "圖片寬度: 267\n",
      "圖片高度: 213\n"
     ]
    }
   ],
   "source": [
    "print('圖片寬度:',pic.width)\n",
    "print('圖片高度:',pic.height)"
   ]
  },
  {
   "cell_type": "code",
   "execution_count": 15,
   "id": "9fb0778a-176c-43b0-88ca-b8f8b120f093",
   "metadata": {},
   "outputs": [
    {
     "name": "stdout",
     "output_type": "stream",
     "text": [
      "圖片檔案格式: JPEG\n",
      "圖片色彩模式: RGB\n",
      "圖片大小: (267, 213)\n"
     ]
    }
   ],
   "source": [
    "print('圖片檔案格式:',pic.format)\n",
    "print('圖片色彩模式:',pic.mode)\n",
    "print('圖片大小:',pic.size)"
   ]
  },
  {
   "cell_type": "code",
   "execution_count": 16,
   "id": "595db3ac-7746-4892-8b46-1629112081a0",
   "metadata": {},
   "outputs": [],
   "source": [
    "pic.show()"
   ]
  },
  {
   "cell_type": "code",
   "execution_count": 17,
   "id": "5ae9cd47-3e38-4c11-a4cd-ee759125903f",
   "metadata": {},
   "outputs": [
    {
     "name": "stdout",
     "output_type": "stream",
     "text": [
      "原本的圖片色彩模式: RGB\n",
      "轉換黑白後的圖片色彩模式: 1\n"
     ]
    }
   ],
   "source": [
    "print('原本的圖片色彩模式:', pic.mode)\n",
    "new_pic=pic.convert('1')\n",
    "new_pic.show()\n",
    "print('轉換黑白後的圖片色彩模式:', new_pic.mode)"
   ]
  },
  {
   "cell_type": "code",
   "execution_count": 18,
   "id": "77a051c1-79c0-459b-9a5e-cff2865f9264",
   "metadata": {},
   "outputs": [],
   "source": [
    "new_pic=pic.rotate(30)\n",
    "new_pic.show()"
   ]
  },
  {
   "cell_type": "code",
   "execution_count": 20,
   "id": "c1953c00-72a9-40d0-aa37-30fb724f13b9",
   "metadata": {},
   "outputs": [],
   "source": [
    "new_pic2=pic.rotate(-30)\n",
    "new_pic2.show()"
   ]
  },
  {
   "cell_type": "code",
   "execution_count": 22,
   "id": "79c63f43-5157-42b7-95c4-b94f6175a031",
   "metadata": {},
   "outputs": [],
   "source": [
    "from PIL import Image\n",
    "from PIL import ImageFilter\n",
    "pic=Image.open(r\"c:\\Users\\user\\.jupyter\\Penguins.jpg\")"
   ]
  },
  {
   "cell_type": "code",
   "execution_count": 24,
   "id": "6ce57c57-a26f-48e1-b99d-bfc41542273f",
   "metadata": {},
   "outputs": [],
   "source": [
    "new_pic=pic.filter(ImageFilter.CONTOUR)\n",
    "new_pic.save(r\"c:\\Users\\user\\.jupyter\\Penguins2.jpg\")\n",
    "new_pic.show()"
   ]
  },
  {
   "cell_type": "code",
   "execution_count": 25,
   "id": "10bd8259-3fa6-4c73-9e66-2a7dfd3588ec",
   "metadata": {},
   "outputs": [
    {
     "name": "stdout",
     "output_type": "stream",
     "text": [
      "原圖大小: (267, 213)\n",
      "縮放後的圖形大小: (400, 400)\n"
     ]
    }
   ],
   "source": [
    "print('原圖大小:',pic.size)\n",
    "new_pic=pic.resize((400,400))\n",
    "print('縮放後的圖形大小:',new_pic.size)\n",
    "new_pic.save(r\"c:\\Users\\user\\.jupyter\\Penguins3.jpg\")"
   ]
  },
  {
   "cell_type": "code",
   "execution_count": null,
   "id": "de8dbc57-2a01-4ea4-bb88-556574f33fea",
   "metadata": {},
   "outputs": [],
   "source": []
  }
 ],
 "metadata": {
  "kernelspec": {
   "display_name": "Python 3 (ipykernel)",
   "language": "python",
   "name": "python3"
  },
  "language_info": {
   "codemirror_mode": {
    "name": "ipython",
    "version": 3
   },
   "file_extension": ".py",
   "mimetype": "text/x-python",
   "name": "python",
   "nbconvert_exporter": "python",
   "pygments_lexer": "ipython3",
   "version": "3.11.7"
  }
 },
 "nbformat": 4,
 "nbformat_minor": 5
}
