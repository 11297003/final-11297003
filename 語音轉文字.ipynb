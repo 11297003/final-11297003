{
 "cells": [
  {
   "cell_type": "code",
   "execution_count": 8,
   "id": "f29ff29c-3ea5-4974-8b05-89684df39046",
   "metadata": {},
   "outputs": [
    {
     "name": "stdout",
     "output_type": "stream",
     "text": [
      "Requirement already satisfied: speechrecognition in c:\\users\\user\\anaconda3\\lib\\site-packages (3.10.3)\n",
      "Requirement already satisfied: requests>=2.26.0 in c:\\users\\user\\anaconda3\\lib\\site-packages (from speechrecognition) (2.31.0)\n",
      "Requirement already satisfied: typing-extensions in c:\\users\\user\\anaconda3\\lib\\site-packages (from speechrecognition) (4.9.0)\n",
      "Requirement already satisfied: charset-normalizer<4,>=2 in c:\\users\\user\\anaconda3\\lib\\site-packages (from requests>=2.26.0->speechrecognition) (2.0.4)\n",
      "Requirement already satisfied: idna<4,>=2.5 in c:\\users\\user\\anaconda3\\lib\\site-packages (from requests>=2.26.0->speechrecognition) (3.4)\n",
      "Requirement already satisfied: urllib3<3,>=1.21.1 in c:\\users\\user\\anaconda3\\lib\\site-packages (from requests>=2.26.0->speechrecognition) (2.0.7)\n",
      "Requirement already satisfied: certifi>=2017.4.17 in c:\\users\\user\\anaconda3\\lib\\site-packages (from requests>=2.26.0->speechrecognition) (2024.2.2)\n"
     ]
    }
   ],
   "source": [
    "!pip install speechrecognition"
   ]
  },
  {
   "cell_type": "markdown",
   "id": "ccb62f87-897d-4a61-8e86-2d198c954d5f",
   "metadata": {},
   "source": [
    "### import speech_recognition\n",
    "r=speech_recognition.Recognizer()\n",
    "with speech_recognition.Microphone() as source:\n",
    "    audio = r.listen(source)"
   ]
  },
  {
   "cell_type": "code",
   "execution_count": 23,
   "id": "5a1f65ef-694b-4beb-b3be-ede82f5715dc",
   "metadata": {},
   "outputs": [],
   "source": [
    "import speech_recognition"
   ]
  },
  {
   "cell_type": "code",
   "execution_count": 24,
   "id": "7d795663-3aed-41e3-88d1-0380fd036fa6",
   "metadata": {},
   "outputs": [],
   "source": [
    "r=speech_recognition.Recognizer()"
   ]
  },
  {
   "cell_type": "code",
   "execution_count": 41,
   "id": "8a0d5eff-7278-4e1b-83df-edfcfa1534fc",
   "metadata": {},
   "outputs": [],
   "source": [
    "with speech_recognition.Microphone() as source:\n",
    "    audio = r.listen(source)"
   ]
  },
  {
   "cell_type": "code",
   "execution_count": 42,
   "id": "74df6d6e-7046-4ce6-9db9-e954de87b963",
   "metadata": {},
   "outputs": [
    {
     "data": {
      "text/plain": [
       "'早安'"
      ]
     },
     "execution_count": 42,
     "metadata": {},
     "output_type": "execute_result"
    }
   ],
   "source": [
    "r.recognize_google(audio,language='zh-TW')"
   ]
  },
  {
   "cell_type": "code",
   "execution_count": 47,
   "id": "55f2d0c4-d663-433f-af3d-f713a7ff4bef",
   "metadata": {},
   "outputs": [
    {
     "data": {
      "text/plain": [
       "'goodbye'"
      ]
     },
     "execution_count": 47,
     "metadata": {},
     "output_type": "execute_result"
    }
   ],
   "source": [
    "with speech_recognition.Microphone() as source:\n",
    "    audio = r.listen(source)\n",
    "r.recognize_google(audio,language='en')"
   ]
  },
  {
   "cell_type": "code",
   "execution_count": 48,
   "id": "2edc02a0-4774-4f6a-82f9-de3033c58b56",
   "metadata": {},
   "outputs": [
    {
     "data": {
      "text/plain": [
       "'おはよう'"
      ]
     },
     "execution_count": 48,
     "metadata": {},
     "output_type": "execute_result"
    }
   ],
   "source": [
    "with speech_recognition.Microphone() as source:\n",
    "    audio = r.listen(source)\n",
    "r.recognize_google(audio,language='ja')"
   ]
  },
  {
   "cell_type": "code",
   "execution_count": null,
   "id": "3b8db609-26ec-49bd-a71a-bdffd51eeb27",
   "metadata": {},
   "outputs": [],
   "source": []
  }
 ],
 "metadata": {
  "kernelspec": {
   "display_name": "Python 3 (ipykernel)",
   "language": "python",
   "name": "python3"
  },
  "language_info": {
   "codemirror_mode": {
    "name": "ipython",
    "version": 3
   },
   "file_extension": ".py",
   "mimetype": "text/x-python",
   "name": "python",
   "nbconvert_exporter": "python",
   "pygments_lexer": "ipython3",
   "version": "3.11.7"
  }
 },
 "nbformat": 4,
 "nbformat_minor": 5
}
