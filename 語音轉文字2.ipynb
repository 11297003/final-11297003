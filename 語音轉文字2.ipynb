{
 "cells": [
  {
   "cell_type": "code",
   "execution_count": 1,
   "id": "5630db46-23af-4def-a1d9-031d0674d17f",
   "metadata": {},
   "outputs": [],
   "source": [
    "# 重複需 kernel/ restart"
   ]
  },
  {
   "cell_type": "code",
   "execution_count": 3,
   "id": "166d0533-56df-4a8b-a507-8fd528a202b9",
   "metadata": {},
   "outputs": [
    {
     "name": "stdout",
     "output_type": "stream",
     "text": [
      "Collecting gtts\n",
      "  Downloading gTTS-2.5.1-py3-none-any.whl.metadata (4.1 kB)\n",
      "Requirement already satisfied: requests<3,>=2.27 in c:\\users\\user\\anaconda3\\lib\\site-packages (from gtts) (2.31.0)\n",
      "Requirement already satisfied: click<8.2,>=7.1 in c:\\users\\user\\anaconda3\\lib\\site-packages (from gtts) (8.1.7)\n",
      "Requirement already satisfied: colorama in c:\\users\\user\\anaconda3\\lib\\site-packages (from click<8.2,>=7.1->gtts) (0.4.6)\n",
      "Requirement already satisfied: charset-normalizer<4,>=2 in c:\\users\\user\\anaconda3\\lib\\site-packages (from requests<3,>=2.27->gtts) (2.0.4)\n",
      "Requirement already satisfied: idna<4,>=2.5 in c:\\users\\user\\anaconda3\\lib\\site-packages (from requests<3,>=2.27->gtts) (3.4)\n",
      "Requirement already satisfied: urllib3<3,>=1.21.1 in c:\\users\\user\\anaconda3\\lib\\site-packages (from requests<3,>=2.27->gtts) (2.0.7)\n",
      "Requirement already satisfied: certifi>=2017.4.17 in c:\\users\\user\\anaconda3\\lib\\site-packages (from requests<3,>=2.27->gtts) (2024.2.2)\n",
      "Downloading gTTS-2.5.1-py3-none-any.whl (29 kB)\n",
      "Installing collected packages: gtts\n",
      "Successfully installed gtts-2.5.1\n"
     ]
    }
   ],
   "source": [
    "!pip install gtts"
   ]
  },
  {
   "cell_type": "code",
   "execution_count": 4,
   "id": "fcd4fd05-671a-4fdb-9f5e-3959222280dd",
   "metadata": {},
   "outputs": [],
   "source": [
    "from gtts import gTTS\n",
    "tts=gTTS(text='吃飽了嗎?', lang='zh-TW')\n",
    "tts.save('EAT.mp3')"
   ]
  },
  {
   "cell_type": "code",
   "execution_count": 5,
   "id": "0aa5af29-c2eb-4ab2-880a-ba3ef6a82314",
   "metadata": {},
   "outputs": [],
   "source": [
    "# gTTS (Google Text-to-Speech)建構式的 Lang 語言代碼, zh-TW 或 zh-CN 漢語, 英文en, 日文 ja, 法文 fr, 俄語 ru, 西班牙語 es"
   ]
  },
  {
   "cell_type": "code",
   "execution_count": 8,
   "id": "69f840be-b40b-4f59-9ce6-0abed10b36fd",
   "metadata": {},
   "outputs": [],
   "source": [
    "from pygame import mixer\n",
    "mixer.init()\n",
    "mixer.music.load('EAT.mp3')\n",
    "mixer.music.play()"
   ]
  },
  {
   "cell_type": "code",
   "execution_count": 9,
   "id": "f8caca8b-953d-4860-9f4f-028867ab73fc",
   "metadata": {},
   "outputs": [],
   "source": [
    "from gtts import gTTS\n",
    "tts1=gTTS(text='ありがとう',lang='ja')\n",
    "tts1.save('japanese_thank_you.mp3')"
   ]
  },
  {
   "cell_type": "code",
   "execution_count": 11,
   "id": "33be6d72-9a24-4610-b07d-34978e5702aa",
   "metadata": {},
   "outputs": [],
   "source": [
    "from pygame import mixer\n",
    "mixer.init()\n",
    "mixer.music.load('japanese_thank_you.mp3')\n",
    "mixer.music.play()"
   ]
  },
  {
   "cell_type": "code",
   "execution_count": 14,
   "id": "d50408ab-797e-4b13-9375-876ba23e5907",
   "metadata": {},
   "outputs": [],
   "source": [
    "# temp file\n",
    "import tempfile\n",
    "def speak(sentence):\n",
    "    with tempfile.NamedTemporaryFile(delete=True) as fp:\n",
    "        tts=gTTS(text=sentence, lang='zh-CN')\n",
    "        tts.save(\"{}.mp3\".format(fp.name))\n",
    "        mixer.music.load('{}.mp3'.format(fp.name))\n",
    "        mixer.music.play()"
   ]
  },
  {
   "cell_type": "code",
   "execution_count": 15,
   "id": "2a11d790-82da-415a-9364-181f5a72450b",
   "metadata": {},
   "outputs": [],
   "source": [
    "speak('吃得很飽!!超級飽!')"
   ]
  },
  {
   "cell_type": "code",
   "execution_count": 16,
   "id": "c6cd03c6-afc0-4786-8c28-4c5ceed03c29",
   "metadata": {},
   "outputs": [],
   "source": [
    "import tempfile\n",
    "def speak(sentence):\n",
    "    with tempfile.NamedTemporaryFile(delete=True) as fp:\n",
    "        tts1=gTTS(text=sentence, lang='ja')\n",
    "        tts1.save(\"{}.mp3\".format(fp.name))\n",
    "        mixer.music.load('{}.mp3'.format(fp.name))\n",
    "        mixer.music.play()"
   ]
  },
  {
   "cell_type": "code",
   "execution_count": 17,
   "id": "a128e6f9-bc66-459d-b03f-2843d1155d8e",
   "metadata": {},
   "outputs": [],
   "source": [
    "#日本詩人 良寬  \"散落的櫻花啊! 就算是在樹梢上的櫻花 終將成為散落的櫻花。 \"看著散落櫻花的悲哀，盛開的櫻花注定終將同樣的散落。\""
   ]
  },
  {
   "cell_type": "code",
   "execution_count": 18,
   "id": "dab21b36-8b21-4f6a-b81b-302ac6fd95a4",
   "metadata": {},
   "outputs": [],
   "source": [
    "speak('散る桜 残る桜も 散る桜')"
   ]
  },
  {
   "cell_type": "code",
   "execution_count": null,
   "id": "7a513506-91cb-4321-a128-79c7556beef7",
   "metadata": {},
   "outputs": [],
   "source": []
  }
 ],
 "metadata": {
  "kernelspec": {
   "display_name": "Python 3 (ipykernel)",
   "language": "python",
   "name": "python3"
  },
  "language_info": {
   "codemirror_mode": {
    "name": "ipython",
    "version": 3
   },
   "file_extension": ".py",
   "mimetype": "text/x-python",
   "name": "python",
   "nbconvert_exporter": "python",
   "pygments_lexer": "ipython3",
   "version": "3.11.7"
  }
 },
 "nbformat": 4,
 "nbformat_minor": 5
}
